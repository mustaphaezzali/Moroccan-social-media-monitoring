{
 "cells": [
  {
   "cell_type": "code",
   "execution_count": 1,
   "metadata": {},
   "outputs": [],
   "source": [
    "import pandas as pd\n",
    "import top2vec \n"
   ]
  },
  {
   "cell_type": "code",
   "execution_count": 2,
   "metadata": {},
   "outputs": [],
   "source": [
    "import tqdm\n",
    "import re\n",
    "\n",
    "from glob import glob\n",
    "\n",
    "files = glob('Docs/*/*.txt')\n",
    "\n",
    "\n",
    "data = pd.DataFrame()\n",
    "\n",
    "def extract_text(file):\n",
    "    with open(file, 'r', encoding='utf-8') as f:\n",
    "        text = f.read()\n",
    "    text = re.sub('<[^<]+?>', '', text)\n",
    "    text = re.sub(r'\\s+', ' ', text)\n",
    "    return text\n"
   ]
  },
  {
   "cell_type": "code",
   "execution_count": 3,
   "metadata": {},
   "outputs": [],
   "source": [
    "for file in files:\n",
    "    text = extract_text(file)\n",
    "    row = pd.DataFrame({'files': [file], 'raw_texts': [text]})\n",
    "    data = pd.concat([data, row], ignore_index=True)\n",
    "    \n",
    "data.reset_index(drop=True, inplace=True)"
   ]
  },
  {
   "cell_type": "code",
   "execution_count": 4,
   "metadata": {},
   "outputs": [
    {
     "data": {
      "text/html": [
       "<div>\n",
       "<style scoped>\n",
       "    .dataframe tbody tr th:only-of-type {\n",
       "        vertical-align: middle;\n",
       "    }\n",
       "\n",
       "    .dataframe tbody tr th {\n",
       "        vertical-align: top;\n",
       "    }\n",
       "\n",
       "    .dataframe thead th {\n",
       "        text-align: right;\n",
       "    }\n",
       "</style>\n",
       "<table border=\"1\" class=\"dataframe\">\n",
       "  <thead>\n",
       "    <tr style=\"text-align: right;\">\n",
       "      <th></th>\n",
       "      <th>files</th>\n",
       "      <th>raw_texts</th>\n",
       "    </tr>\n",
       "  </thead>\n",
       "  <tbody>\n",
       "    <tr>\n",
       "      <th>0</th>\n",
       "      <td>Docs\\art-et-culture\\document_07f955705bbaf61a5...</td>\n",
       "      <td>أعلنت قناة الشارقة الإماراتية عن شروعها في عرض...</td>\n",
       "    </tr>\n",
       "    <tr>\n",
       "      <th>1</th>\n",
       "      <td>Docs\\art-et-culture\\document_0d40c16faa841137c...</td>\n",
       "      <td>انطلقت مساء الاثنين بمسرح محمد الخامس بالرباط،...</td>\n",
       "    </tr>\n",
       "    <tr>\n",
       "      <th>2</th>\n",
       "      <td>Docs\\art-et-culture\\document_0e90edd30b99ad992...</td>\n",
       "      <td>إسهام جديد ينضاف إلى المكتبة الدينية المغربية ...</td>\n",
       "    </tr>\n",
       "    <tr>\n",
       "      <th>3</th>\n",
       "      <td>Docs\\art-et-culture\\document_1059c1f60e0667421...</td>\n",
       "      <td>منسلاً من بَيْداء السّرد، ممتطيا صهوة مُهْرَة ...</td>\n",
       "    </tr>\n",
       "    <tr>\n",
       "      <th>4</th>\n",
       "      <td>Docs\\art-et-culture\\document_1196f9cbb4086ada0...</td>\n",
       "      <td>عمل مونوغرافي هو الأول من نوعه صدر حول تجربة ا...</td>\n",
       "    </tr>\n",
       "    <tr>\n",
       "      <th>...</th>\n",
       "      <td>...</td>\n",
       "      <td>...</td>\n",
       "    </tr>\n",
       "    <tr>\n",
       "      <th>288</th>\n",
       "      <td>Docs\\tamazight\\document_6906516d6be0a5d9935435...</td>\n",
       "      <td>سفر في صورة الأمازيغ عبر التاريخ عند ورثتهم ول...</td>\n",
       "    </tr>\n",
       "    <tr>\n",
       "      <th>289</th>\n",
       "      <td>Docs\\tamazight\\document_70ffb81d2597b307e79951...</td>\n",
       "      <td>كرم المعهد الملكي للثقافة الأمازيغية، أمس الثل...</td>\n",
       "    </tr>\n",
       "    <tr>\n",
       "      <th>290</th>\n",
       "      <td>Docs\\tamazight\\document_d18d44962f906d874cd0b0...</td>\n",
       "      <td>تمكنت الدراما الأمازيغية من دخول غمار المنافسة...</td>\n",
       "    </tr>\n",
       "    <tr>\n",
       "      <th>291</th>\n",
       "      <td>Docs\\tamazight\\document_d1caea0d05ac1c519c767e...</td>\n",
       "      <td>وجد العديد من خريجي شعبة الدراسات الأمازيغية أ...</td>\n",
       "    </tr>\n",
       "    <tr>\n",
       "      <th>292</th>\n",
       "      <td>Docs\\tamazight\\document_d4f50112c307d07507e978...</td>\n",
       "      <td>قالت الفنانة الأمازيغية فاطمة أغرارى، الملقبة ...</td>\n",
       "    </tr>\n",
       "  </tbody>\n",
       "</table>\n",
       "<p>293 rows × 2 columns</p>\n",
       "</div>"
      ],
      "text/plain": [
       "                                                 files  \\\n",
       "0    Docs\\art-et-culture\\document_07f955705bbaf61a5...   \n",
       "1    Docs\\art-et-culture\\document_0d40c16faa841137c...   \n",
       "2    Docs\\art-et-culture\\document_0e90edd30b99ad992...   \n",
       "3    Docs\\art-et-culture\\document_1059c1f60e0667421...   \n",
       "4    Docs\\art-et-culture\\document_1196f9cbb4086ada0...   \n",
       "..                                                 ...   \n",
       "288  Docs\\tamazight\\document_6906516d6be0a5d9935435...   \n",
       "289  Docs\\tamazight\\document_70ffb81d2597b307e79951...   \n",
       "290  Docs\\tamazight\\document_d18d44962f906d874cd0b0...   \n",
       "291  Docs\\tamazight\\document_d1caea0d05ac1c519c767e...   \n",
       "292  Docs\\tamazight\\document_d4f50112c307d07507e978...   \n",
       "\n",
       "                                             raw_texts  \n",
       "0    أعلنت قناة الشارقة الإماراتية عن شروعها في عرض...  \n",
       "1    انطلقت مساء الاثنين بمسرح محمد الخامس بالرباط،...  \n",
       "2    إسهام جديد ينضاف إلى المكتبة الدينية المغربية ...  \n",
       "3    منسلاً من بَيْداء السّرد، ممتطيا صهوة مُهْرَة ...  \n",
       "4    عمل مونوغرافي هو الأول من نوعه صدر حول تجربة ا...  \n",
       "..                                                 ...  \n",
       "288  سفر في صورة الأمازيغ عبر التاريخ عند ورثتهم ول...  \n",
       "289  كرم المعهد الملكي للثقافة الأمازيغية، أمس الثل...  \n",
       "290  تمكنت الدراما الأمازيغية من دخول غمار المنافسة...  \n",
       "291  وجد العديد من خريجي شعبة الدراسات الأمازيغية أ...  \n",
       "292  قالت الفنانة الأمازيغية فاطمة أغرارى، الملقبة ...  \n",
       "\n",
       "[293 rows x 2 columns]"
      ]
     },
     "execution_count": 4,
     "metadata": {},
     "output_type": "execute_result"
    }
   ],
   "source": [
    "data"
   ]
  },
  {
   "cell_type": "code",
   "execution_count": 5,
   "metadata": {},
   "outputs": [],
   "source": [
    "# save the data in csv format\n",
    "data.to_csv('data.csv', index=False)"
   ]
  },
  {
   "cell_type": "code",
   "execution_count": null,
   "metadata": {},
   "outputs": [],
   "source": []
  }
 ],
 "metadata": {
  "kernelspec": {
   "display_name": "renv",
   "language": "python",
   "name": "python3"
  },
  "language_info": {
   "codemirror_mode": {
    "name": "ipython",
    "version": 3
   },
   "file_extension": ".py",
   "mimetype": "text/x-python",
   "name": "python",
   "nbconvert_exporter": "python",
   "pygments_lexer": "ipython3",
   "version": "3.10.8"
  },
  "orig_nbformat": 4
 },
 "nbformat": 4,
 "nbformat_minor": 2
}
