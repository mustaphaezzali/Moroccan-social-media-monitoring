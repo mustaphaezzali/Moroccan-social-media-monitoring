{
 "cells": [
  {
   "cell_type": "code",
   "execution_count": 51,
   "metadata": {},
   "outputs": [],
   "source": [
    "import pandas as pd\n",
    "import re\n",
    "from dateutil.parser import parse\n",
    "from datetime import datetime\n",
    "from tqdm import tqdm\n",
    "from glob import glob\n",
    "from methods import *\n",
    "import numpy as np"
   ]
  },
  {
   "cell_type": "code",
   "execution_count": 19,
   "metadata": {},
   "outputs": [],
   "source": [
    "data = pd.read_csv('scraping/comments.csv',encoding='utf-8')"
   ]
  },
  {
   "cell_type": "code",
   "execution_count": 53,
   "metadata": {},
   "outputs": [],
   "source": [
    "data['content'] = data['comment'].apply(preprocess)\n",
    "\n"
   ]
  },
  {
   "cell_type": "code",
   "execution_count": 21,
   "metadata": {},
   "outputs": [],
   "source": [
    "# data['content'] = data['content'].apply(remove_stopWords)"
   ]
  },
  {
   "cell_type": "code",
   "execution_count": 54,
   "metadata": {},
   "outputs": [],
   "source": [
    "df = data"
   ]
  },
  {
   "cell_type": "code",
   "execution_count": 55,
   "metadata": {},
   "outputs": [
    {
     "data": {
      "text/html": [
       "<div>\n",
       "<style scoped>\n",
       "    .dataframe tbody tr th:only-of-type {\n",
       "        vertical-align: middle;\n",
       "    }\n",
       "\n",
       "    .dataframe tbody tr th {\n",
       "        vertical-align: top;\n",
       "    }\n",
       "\n",
       "    .dataframe thead th {\n",
       "        text-align: right;\n",
       "    }\n",
       "</style>\n",
       "<table border=\"1\" class=\"dataframe\">\n",
       "  <thead>\n",
       "    <tr style=\"text-align: right;\">\n",
       "      <th></th>\n",
       "      <th>comment</th>\n",
       "      <th>content</th>\n",
       "    </tr>\n",
       "  </thead>\n",
       "  <tbody>\n",
       "    <tr>\n",
       "      <th>0</th>\n",
       "      <td>اليمين المتطرف دار خير فالمغاربة ديال مليلية و...</td>\n",
       "      <td>اليم متطرف دار خير فالمغارب ديال مليل واش اماز...</td>\n",
       "    </tr>\n",
       "    <tr>\n",
       "      <th>1</th>\n",
       "      <td>للاسف نحن لازيد من 500سنة ولم نقدر على استرجاع...</td>\n",
       "      <td>اسف لازيد 500س نقدر استرجاع مدينت سبت مليل اسب...</td>\n",
       "    </tr>\n",
       "    <tr>\n",
       "      <th>2</th>\n",
       "      <td>اليمين المتطرف في مليلية يرفض ترسيم الأمازيغية...</td>\n",
       "      <td>اليم متطرف مليل يرفض ترسيم امازيغيه جديد</td>\n",
       "    </tr>\n",
       "    <tr>\n",
       "      <th>3</th>\n",
       "      <td>رغم أنني أمازيغي أبا عن جد لا أجد جدوى من تدري...</td>\n",
       "      <td>رغم انن امازيغ جد اجد جدو تدريس امازيغيه اجيال...</td>\n",
       "    </tr>\n",
       "    <tr>\n",
       "      <th>4</th>\n",
       "      <td>الاسبان لم يتنازلوا عن عقليتهم الاستعمارية الم...</td>\n",
       "      <td>اسب يتنازل عقلي استعماريه مقيته مليل اسب اسم ا...</td>\n",
       "    </tr>\n",
       "  </tbody>\n",
       "</table>\n",
       "</div>"
      ],
      "text/plain": [
       "                                             comment  \\\n",
       "0  اليمين المتطرف دار خير فالمغاربة ديال مليلية و...   \n",
       "1  للاسف نحن لازيد من 500سنة ولم نقدر على استرجاع...   \n",
       "2  اليمين المتطرف في مليلية يرفض ترسيم الأمازيغية...   \n",
       "3  رغم أنني أمازيغي أبا عن جد لا أجد جدوى من تدري...   \n",
       "4  الاسبان لم يتنازلوا عن عقليتهم الاستعمارية الم...   \n",
       "\n",
       "                                             content  \n",
       "0  اليم متطرف دار خير فالمغارب ديال مليل واش اماز...  \n",
       "1  اسف لازيد 500س نقدر استرجاع مدينت سبت مليل اسب...  \n",
       "2           اليم متطرف مليل يرفض ترسيم امازيغيه جديد  \n",
       "3  رغم انن امازيغ جد اجد جدو تدريس امازيغيه اجيال...  \n",
       "4  اسب يتنازل عقلي استعماريه مقيته مليل اسب اسم ا...  "
      ]
     },
     "execution_count": 55,
     "metadata": {},
     "output_type": "execute_result"
    }
   ],
   "source": [
    "df.head()"
   ]
  },
  {
   "cell_type": "code",
   "execution_count": 56,
   "metadata": {},
   "outputs": [],
   "source": [
    "from sklearn.feature_extraction.text import TfidfVectorizer\n",
    "vec = TfidfVectorizer(analyzer='char_wb', ngram_range=(3, 5), min_df=.01, max_df=.3)\n",
    "matrix = vec.fit_transform(df['content'])"
   ]
  },
  {
   "cell_type": "code",
   "execution_count": 57,
   "metadata": {},
   "outputs": [
    {
     "data": {
      "text/plain": [
       "scipy.sparse._csr.csr_matrix"
      ]
     },
     "execution_count": 57,
     "metadata": {},
     "output_type": "execute_result"
    }
   ],
   "source": [
    "type(matrix)"
   ]
  },
  {
   "cell_type": "code",
   "execution_count": 58,
   "metadata": {},
   "outputs": [
    {
     "data": {
      "text/html": [
       "<style>#sk-container-id-4 {color: black;background-color: white;}#sk-container-id-4 pre{padding: 0;}#sk-container-id-4 div.sk-toggleable {background-color: white;}#sk-container-id-4 label.sk-toggleable__label {cursor: pointer;display: block;width: 100%;margin-bottom: 0;padding: 0.3em;box-sizing: border-box;text-align: center;}#sk-container-id-4 label.sk-toggleable__label-arrow:before {content: \"▸\";float: left;margin-right: 0.25em;color: #696969;}#sk-container-id-4 label.sk-toggleable__label-arrow:hover:before {color: black;}#sk-container-id-4 div.sk-estimator:hover label.sk-toggleable__label-arrow:before {color: black;}#sk-container-id-4 div.sk-toggleable__content {max-height: 0;max-width: 0;overflow: hidden;text-align: left;background-color: #f0f8ff;}#sk-container-id-4 div.sk-toggleable__content pre {margin: 0.2em;color: black;border-radius: 0.25em;background-color: #f0f8ff;}#sk-container-id-4 input.sk-toggleable__control:checked~div.sk-toggleable__content {max-height: 200px;max-width: 100%;overflow: auto;}#sk-container-id-4 input.sk-toggleable__control:checked~label.sk-toggleable__label-arrow:before {content: \"▾\";}#sk-container-id-4 div.sk-estimator input.sk-toggleable__control:checked~label.sk-toggleable__label {background-color: #d4ebff;}#sk-container-id-4 div.sk-label input.sk-toggleable__control:checked~label.sk-toggleable__label {background-color: #d4ebff;}#sk-container-id-4 input.sk-hidden--visually {border: 0;clip: rect(1px 1px 1px 1px);clip: rect(1px, 1px, 1px, 1px);height: 1px;margin: -1px;overflow: hidden;padding: 0;position: absolute;width: 1px;}#sk-container-id-4 div.sk-estimator {font-family: monospace;background-color: #f0f8ff;border: 1px dotted black;border-radius: 0.25em;box-sizing: border-box;margin-bottom: 0.5em;}#sk-container-id-4 div.sk-estimator:hover {background-color: #d4ebff;}#sk-container-id-4 div.sk-parallel-item::after {content: \"\";width: 100%;border-bottom: 1px solid gray;flex-grow: 1;}#sk-container-id-4 div.sk-label:hover label.sk-toggleable__label {background-color: #d4ebff;}#sk-container-id-4 div.sk-serial::before {content: \"\";position: absolute;border-left: 1px solid gray;box-sizing: border-box;top: 0;bottom: 0;left: 50%;z-index: 0;}#sk-container-id-4 div.sk-serial {display: flex;flex-direction: column;align-items: center;background-color: white;padding-right: 0.2em;padding-left: 0.2em;position: relative;}#sk-container-id-4 div.sk-item {position: relative;z-index: 1;}#sk-container-id-4 div.sk-parallel {display: flex;align-items: stretch;justify-content: center;background-color: white;position: relative;}#sk-container-id-4 div.sk-item::before, #sk-container-id-4 div.sk-parallel-item::before {content: \"\";position: absolute;border-left: 1px solid gray;box-sizing: border-box;top: 0;bottom: 0;left: 50%;z-index: -1;}#sk-container-id-4 div.sk-parallel-item {display: flex;flex-direction: column;z-index: 1;position: relative;background-color: white;}#sk-container-id-4 div.sk-parallel-item:first-child::after {align-self: flex-end;width: 50%;}#sk-container-id-4 div.sk-parallel-item:last-child::after {align-self: flex-start;width: 50%;}#sk-container-id-4 div.sk-parallel-item:only-child::after {width: 0;}#sk-container-id-4 div.sk-dashed-wrapped {border: 1px dashed gray;margin: 0 0.4em 0.5em 0.4em;box-sizing: border-box;padding-bottom: 0.4em;background-color: white;}#sk-container-id-4 div.sk-label label {font-family: monospace;font-weight: bold;display: inline-block;line-height: 1.2em;}#sk-container-id-4 div.sk-label-container {text-align: center;}#sk-container-id-4 div.sk-container {/* jupyter's `normalize.less` sets `[hidden] { display: none; }` but bootstrap.min.css set `[hidden] { display: none !important; }` so we also need the `!important` here to be able to override the default hidden behavior on the sphinx rendered scikit-learn.org. See: https://github.com/scikit-learn/scikit-learn/issues/21755 */display: inline-block !important;position: relative;}#sk-container-id-4 div.sk-text-repr-fallback {display: none;}</style><div id=\"sk-container-id-4\" class=\"sk-top-container\"><div class=\"sk-text-repr-fallback\"><pre>TruncatedSVD(random_state=42)</pre><b>In a Jupyter environment, please rerun this cell to show the HTML representation or trust the notebook. <br />On GitHub, the HTML representation is unable to render, please try loading this page with nbviewer.org.</b></div><div class=\"sk-container\" hidden><div class=\"sk-item\"><div class=\"sk-estimator sk-toggleable\"><input class=\"sk-toggleable__control sk-hidden--visually\" id=\"sk-estimator-id-4\" type=\"checkbox\" checked><label for=\"sk-estimator-id-4\" class=\"sk-toggleable__label sk-toggleable__label-arrow\">TruncatedSVD</label><div class=\"sk-toggleable__content\"><pre>TruncatedSVD(random_state=42)</pre></div></div></div></div></div>"
      ],
      "text/plain": [
       "TruncatedSVD(random_state=42)"
      ]
     },
     "execution_count": 58,
     "metadata": {},
     "output_type": "execute_result"
    }
   ],
   "source": [
    "#tranked SVD\n",
    "from sklearn.decomposition import TruncatedSVD\n",
    "svd = TruncatedSVD(n_components=2, random_state=42)\n",
    "svd.fit(matrix)"
   ]
  },
  {
   "cell_type": "code",
   "execution_count": 59,
   "metadata": {},
   "outputs": [
    {
     "data": {
      "text/plain": [
       "4028"
      ]
     },
     "execution_count": 59,
     "metadata": {},
     "output_type": "execute_result"
    }
   ],
   "source": [
    "dictionary = vec.get_feature_names_out()\n",
    "len(dictionary)"
   ]
  },
  {
   "cell_type": "code",
   "execution_count": 60,
   "metadata": {},
   "outputs": [
    {
     "data": {
      "text/html": [
       "<div>\n",
       "<style scoped>\n",
       "    .dataframe tbody tr th:only-of-type {\n",
       "        vertical-align: middle;\n",
       "    }\n",
       "\n",
       "    .dataframe tbody tr th {\n",
       "        vertical-align: top;\n",
       "    }\n",
       "\n",
       "    .dataframe thead th {\n",
       "        text-align: right;\n",
       "    }\n",
       "</style>\n",
       "<table border=\"1\" class=\"dataframe\">\n",
       "  <thead>\n",
       "    <tr style=\"text-align: right;\">\n",
       "      <th></th>\n",
       "      <th>topic_1</th>\n",
       "      <th>topic_2</th>\n",
       "      <th>Terms</th>\n",
       "    </tr>\n",
       "  </thead>\n",
       "  <tbody>\n",
       "    <tr>\n",
       "      <th>0</th>\n",
       "      <td>0.006181</td>\n",
       "      <td>-0.002758</td>\n",
       "      <td>10</td>\n",
       "    </tr>\n",
       "    <tr>\n",
       "      <th>1</th>\n",
       "      <td>0.005177</td>\n",
       "      <td>0.002098</td>\n",
       "      <td>19</td>\n",
       "    </tr>\n",
       "    <tr>\n",
       "      <th>2</th>\n",
       "      <td>0.009432</td>\n",
       "      <td>-0.001681</td>\n",
       "      <td>20</td>\n",
       "    </tr>\n",
       "    <tr>\n",
       "      <th>3</th>\n",
       "      <td>0.004619</td>\n",
       "      <td>0.002103</td>\n",
       "      <td>200</td>\n",
       "    </tr>\n",
       "    <tr>\n",
       "      <th>4</th>\n",
       "      <td>0.030375</td>\n",
       "      <td>-0.002154</td>\n",
       "      <td>اب</td>\n",
       "    </tr>\n",
       "    <tr>\n",
       "      <th>...</th>\n",
       "      <td>...</td>\n",
       "      <td>...</td>\n",
       "      <td>...</td>\n",
       "    </tr>\n",
       "    <tr>\n",
       "      <th>4023</th>\n",
       "      <td>0.023849</td>\n",
       "      <td>-0.018401</td>\n",
       "      <td>يوم</td>\n",
       "    </tr>\n",
       "    <tr>\n",
       "      <th>4024</th>\n",
       "      <td>0.006072</td>\n",
       "      <td>-0.003852</td>\n",
       "      <td>يون</td>\n",
       "    </tr>\n",
       "    <tr>\n",
       "      <th>4025</th>\n",
       "      <td>0.005111</td>\n",
       "      <td>-0.003939</td>\n",
       "      <td>يون</td>\n",
       "    </tr>\n",
       "    <tr>\n",
       "      <th>4026</th>\n",
       "      <td>0.009926</td>\n",
       "      <td>-0.010108</td>\n",
       "      <td>يير</td>\n",
       "    </tr>\n",
       "    <tr>\n",
       "      <th>4027</th>\n",
       "      <td>0.009884</td>\n",
       "      <td>-0.010041</td>\n",
       "      <td>يير</td>\n",
       "    </tr>\n",
       "  </tbody>\n",
       "</table>\n",
       "<p>4028 rows × 3 columns</p>\n",
       "</div>"
      ],
      "text/plain": [
       "       topic_1   topic_2 Terms\n",
       "0     0.006181 -0.002758    10\n",
       "1     0.005177  0.002098    19\n",
       "2     0.009432 -0.001681    20\n",
       "3     0.004619  0.002103   200\n",
       "4     0.030375 -0.002154    اب\n",
       "...        ...       ...   ...\n",
       "4023  0.023849 -0.018401  يوم \n",
       "4024  0.006072 -0.003852   يون\n",
       "4025  0.005111 -0.003939  يون \n",
       "4026  0.009926 -0.010108   يير\n",
       "4027  0.009884 -0.010041  يير \n",
       "\n",
       "[4028 rows x 3 columns]"
      ]
     },
     "metadata": {},
     "output_type": "display_data"
    }
   ],
   "source": [
    "# encoding matrix\n",
    "encoding_matrix = pd.DataFrame(svd.components_,index=['topic_1','topic_2']).T\n",
    "encoding_matrix['Terms'] = dictionary\n",
    "display(encoding_matrix)"
   ]
  },
  {
   "attachments": {},
   "cell_type": "markdown",
   "metadata": {},
   "source": [
    "## interpret encoding matrix\n"
   ]
  },
  {
   "cell_type": "code",
   "execution_count": 62,
   "metadata": {},
   "outputs": [
    {
     "data": {
      "text/html": [
       "<div>\n",
       "<style scoped>\n",
       "    .dataframe tbody tr th:only-of-type {\n",
       "        vertical-align: middle;\n",
       "    }\n",
       "\n",
       "    .dataframe tbody tr th {\n",
       "        vertical-align: top;\n",
       "    }\n",
       "\n",
       "    .dataframe thead th {\n",
       "        text-align: right;\n",
       "    }\n",
       "</style>\n",
       "<table border=\"1\" class=\"dataframe\">\n",
       "  <thead>\n",
       "    <tr style=\"text-align: right;\">\n",
       "      <th></th>\n",
       "      <th>topic_1</th>\n",
       "      <th>topic_2</th>\n",
       "      <th>Terms</th>\n",
       "      <th>abs_topic_1</th>\n",
       "      <th>abs_topic_2</th>\n",
       "    </tr>\n",
       "  </thead>\n",
       "  <tbody>\n",
       "    <tr>\n",
       "      <th>1583</th>\n",
       "      <td>0.110577</td>\n",
       "      <td>0.195123</td>\n",
       "      <td>اماز</td>\n",
       "      <td>0.110577</td>\n",
       "      <td>0.195123</td>\n",
       "    </tr>\n",
       "    <tr>\n",
       "      <th>3352</th>\n",
       "      <td>0.111566</td>\n",
       "      <td>0.193842</td>\n",
       "      <td>ماز</td>\n",
       "      <td>0.111566</td>\n",
       "      <td>0.193842</td>\n",
       "    </tr>\n",
       "    <tr>\n",
       "      <th>2474</th>\n",
       "      <td>0.107155</td>\n",
       "      <td>0.191943</td>\n",
       "      <td>زيغ</td>\n",
       "      <td>0.107155</td>\n",
       "      <td>0.191943</td>\n",
       "    </tr>\n",
       "    <tr>\n",
       "      <th>3355</th>\n",
       "      <td>0.105979</td>\n",
       "      <td>0.191777</td>\n",
       "      <td>مازي</td>\n",
       "      <td>0.105979</td>\n",
       "      <td>0.191777</td>\n",
       "    </tr>\n",
       "    <tr>\n",
       "      <th>1370</th>\n",
       "      <td>0.105639</td>\n",
       "      <td>0.191125</td>\n",
       "      <td>ازيغ</td>\n",
       "      <td>0.105639</td>\n",
       "      <td>0.191125</td>\n",
       "    </tr>\n",
       "    <tr>\n",
       "      <th>...</th>\n",
       "      <td>...</td>\n",
       "      <td>...</td>\n",
       "      <td>...</td>\n",
       "      <td>...</td>\n",
       "      <td>...</td>\n",
       "    </tr>\n",
       "    <tr>\n",
       "      <th>1237</th>\n",
       "      <td>0.006628</td>\n",
       "      <td>0.000026</td>\n",
       "      <td>ابت</td>\n",
       "      <td>0.006628</td>\n",
       "      <td>0.000026</td>\n",
       "    </tr>\n",
       "    <tr>\n",
       "      <th>3208</th>\n",
       "      <td>0.011134</td>\n",
       "      <td>-0.000018</td>\n",
       "      <td>لاب</td>\n",
       "      <td>0.011134</td>\n",
       "      <td>0.000018</td>\n",
       "    </tr>\n",
       "    <tr>\n",
       "      <th>328</th>\n",
       "      <td>0.005025</td>\n",
       "      <td>-0.000018</td>\n",
       "      <td>ثلا</td>\n",
       "      <td>0.005025</td>\n",
       "      <td>0.000018</td>\n",
       "    </tr>\n",
       "    <tr>\n",
       "      <th>1812</th>\n",
       "      <td>0.006419</td>\n",
       "      <td>-0.000011</td>\n",
       "      <td>ترف</td>\n",
       "      <td>0.006419</td>\n",
       "      <td>0.000011</td>\n",
       "    </tr>\n",
       "    <tr>\n",
       "      <th>1167</th>\n",
       "      <td>0.009138</td>\n",
       "      <td>-0.000005</td>\n",
       "      <td>يعر</td>\n",
       "      <td>0.009138</td>\n",
       "      <td>0.000005</td>\n",
       "    </tr>\n",
       "  </tbody>\n",
       "</table>\n",
       "<p>4028 rows × 5 columns</p>\n",
       "</div>"
      ],
      "text/plain": [
       "       topic_1   topic_2 Terms  abs_topic_1  abs_topic_2\n",
       "1583  0.110577  0.195123  اماز     0.110577     0.195123\n",
       "3352  0.111566  0.193842   ماز     0.111566     0.193842\n",
       "2474  0.107155  0.191943   زيغ     0.107155     0.191943\n",
       "3355  0.105979  0.191777  مازي     0.105979     0.191777\n",
       "1370  0.105639  0.191125  ازيغ     0.105639     0.191125\n",
       "...        ...       ...   ...          ...          ...\n",
       "1237  0.006628  0.000026   ابت     0.006628     0.000026\n",
       "3208  0.011134 -0.000018   لاب     0.011134     0.000018\n",
       "328   0.005025 -0.000018   ثلا     0.005025     0.000018\n",
       "1812  0.006419 -0.000011  ترف      0.006419     0.000011\n",
       "1167  0.009138 -0.000005   يعر     0.009138     0.000005\n",
       "\n",
       "[4028 rows x 5 columns]"
      ]
     },
     "metadata": {},
     "output_type": "display_data"
    }
   ],
   "source": [
    "encoding_matrix['abs_topic_1'] = np.abs(encoding_matrix['topic_1'])\n",
    "encoding_matrix['abs_topic_2'] = np.abs(encoding_matrix['topic_2'])\n",
    "display(encoding_matrix.sort_values('abs_topic_2',ascending=False))"
   ]
  },
  {
   "cell_type": "code",
   "execution_count": 63,
   "metadata": {},
   "outputs": [
    {
     "data": {
      "text/plain": [
       "\" from utils import ArabicTfidfVectorizer\\ndfidf = ArabicTfidfVectorizer()\\nmatrix = dfidf.fit_transform(df[['content']]) \""
      ]
     },
     "execution_count": 63,
     "metadata": {},
     "output_type": "execute_result"
    }
   ],
   "source": [
    "\"\"\" from utils import ArabicTfidfVectorizer\n",
    "dfidf = ArabicTfidfVectorizer()\n",
    "matrix = dfidf.fit_transform(df[['content']]) \"\"\""
   ]
  },
  {
   "cell_type": "code",
   "execution_count": 64,
   "metadata": {},
   "outputs": [
    {
     "data": {
      "text/plain": [
       "' df_matrix = pd.DataFrame(matrix)\\nprint(df_matrix.head()) '"
      ]
     },
     "execution_count": 64,
     "metadata": {},
     "output_type": "execute_result"
    }
   ],
   "source": [
    "\"\"\" df_matrix = pd.DataFrame(matrix)\n",
    "print(df_matrix.head()) \"\"\"\n"
   ]
  }
 ],
 "metadata": {
  "kernelspec": {
   "display_name": "Python 3.11.0 ('venv': venv)",
   "language": "python",
   "name": "python3"
  },
  "language_info": {
   "codemirror_mode": {
    "name": "ipython",
    "version": 3
   },
   "file_extension": ".py",
   "mimetype": "text/x-python",
   "name": "python",
   "nbconvert_exporter": "python",
   "pygments_lexer": "ipython3",
   "version": "3.10.8"
  },
  "orig_nbformat": 4,
  "vscode": {
   "interpreter": {
    "hash": "2f433d8857c4826459701e3eb510135a04b6345968a8a49bf8e003b109c12bda"
   }
  }
 },
 "nbformat": 4,
 "nbformat_minor": 2
}
